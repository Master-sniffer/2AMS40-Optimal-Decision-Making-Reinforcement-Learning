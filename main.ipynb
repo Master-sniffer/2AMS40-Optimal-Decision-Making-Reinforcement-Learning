{
 "cells": [
  {
   "cell_type": "code",
   "execution_count": 2,
   "metadata": {},
   "outputs": [],
   "source": [
    "import scipy\n",
    "import numpy as np\n",
    "import pandas as pd\n",
    "import matplotlib.pyplot as plt"
   ]
  },
  {
   "cell_type": "code",
   "execution_count": 11,
   "metadata": {},
   "outputs": [],
   "source": [
    "purchase_cost = 400\n",
    "price = 2000\n",
    "return_cost_price = 150\n",
    "mean = 25\n",
    "variance = 20"
   ]
  },
  {
   "cell_type": "code",
   "execution_count": 12,
   "metadata": {},
   "outputs": [
    {
     "data": {
      "text/plain": [
       "(0.2, 125.0)"
      ]
     },
     "execution_count": 12,
     "metadata": {},
     "output_type": "execute_result"
    }
   ],
   "source": [
    "n = (mean**2)/(mean - variance)\n",
    "p = mean/n\n",
    "\n",
    "p, n"
   ]
  },
  {
   "cell_type": "code",
   "execution_count": 5,
   "metadata": {},
   "outputs": [
    {
     "name": "stdout",
     "output_type": "stream",
     "text": [
      "Optimal order size: 28\n",
      "Expected profit: 36873.05804317281\n"
     ]
    },
    {
     "data": {
      "text/plain": [
       "[<matplotlib.lines.Line2D at 0x1f27991e9d0>]"
      ]
     },
     "execution_count": 5,
     "metadata": {},
     "output_type": "execute_result"
    },
    {
     "data": {
      "image/png": "[encoded data removed]",
      "text/plain": [
       "<Figure size 640x480 with 1 Axes>"
      ]
     },
     "metadata": {},
     "output_type": "display_data"
    }
   ],
   "source": [
    "possible_order_sizes = range(int(n) + 1)\n",
    "\n",
    "def expected_net_profit(order_size, n, p, purchase_cost, price, return_cost_price):\n",
    "    profit = 0\n",
    "    for demand in possible_order_sizes:\n",
    "        sold_items = min(order_size, demand)\n",
    "        unsold_items = max(0, order_size - demand)\n",
    "        probability = scipy.stats.binom.pmf(demand, n, p)\n",
    "        revenue = sold_items * price\n",
    "        cost = order_size * purchase_cost\n",
    "        return_cost = unsold_items * return_cost_price\n",
    "        sol = probability * (revenue - cost - return_cost)\n",
    "        profit += sol\n",
    "    return profit\n",
    "\n",
    "profits = [expected_net_profit(order_size, n, p, purchase_cost, price, return_cost_price) for order_size in possible_order_sizes]\n",
    "optimal_order_size = possible_order_sizes[np.argmax(profits)]\n",
    "\n",
    "print(f\"Optimal order size: {optimal_order_size}\")\n",
    "print(f\"Expected profit: {max(profits)}\")\n",
    "\n",
    "\n",
    "\n",
    "plt.plot(possible_order_sizes, profits)"
   ]
  },
  {
   "cell_type": "code",
   "execution_count": 6,
   "metadata": {},
   "outputs": [
    {
     "data": {
      "text/plain": [
       "3199.999999944983"
      ]
     },
     "execution_count": 6,
     "metadata": {},
     "output_type": "execute_result"
    }
   ],
   "source": [
    "expected_net_profit(2, n, p, purchase_cost, price, return_cost_price)"
   ]
  },
  {
   "cell_type": "code",
   "execution_count": 16,
   "metadata": {},
   "outputs": [
    {
     "data": {
      "text/html": [
       "<div>\n",
       "<style scoped>\n",
       "    .dataframe tbody tr th:only-of-type {\n",
       "        vertical-align: middle;\n",
       "    }\n",
       "\n",
       "    .dataframe tbody tr th {\n",
       "        vertical-align: top;\n",
       "    }\n",
       "\n",
       "    .dataframe thead th {\n",
       "        text-align: right;\n",
       "    }\n",
       "</style>\n",
       "<table border=\"1\" class=\"dataframe\">\n",
       "  <thead>\n",
       "    <tr style=\"text-align: right;\">\n",
       "      <th></th>\n",
       "      <th>Day</th>\n",
       "      <th>Inventory</th>\n",
       "      <th>Demand</th>\n",
       "      <th>Sales</th>\n",
       "      <th>Revenue</th>\n",
       "      <th>Cost</th>\n",
       "      <th>Holding Cost</th>\n",
       "      <th>Net Profit</th>\n",
       "    </tr>\n",
       "  </thead>\n",
       "  <tbody>\n",
       "    <tr>\n",
       "      <th>0</th>\n",
       "      <td>1</td>\n",
       "      <td>14</td>\n",
       "      <td>26</td>\n",
       "      <td>26</td>\n",
       "      <td>52000</td>\n",
       "      <td>1600</td>\n",
       "      <td>2100</td>\n",
       "      <td>48300</td>\n",
       "    </tr>\n",
       "    <tr>\n",
       "      <th>1</th>\n",
       "      <td>2</td>\n",
       "      <td>0</td>\n",
       "      <td>30</td>\n",
       "      <td>14</td>\n",
       "      <td>28000</td>\n",
       "      <td>1600</td>\n",
       "      <td>0</td>\n",
       "      <td>26400</td>\n",
       "    </tr>\n",
       "    <tr>\n",
       "      <th>2</th>\n",
       "      <td>3</td>\n",
       "      <td>0</td>\n",
       "      <td>31</td>\n",
       "      <td>4</td>\n",
       "      <td>8000</td>\n",
       "      <td>1600</td>\n",
       "      <td>0</td>\n",
       "      <td>6400</td>\n",
       "    </tr>\n",
       "    <tr>\n",
       "      <th>3</th>\n",
       "      <td>4</td>\n",
       "      <td>0</td>\n",
       "      <td>22</td>\n",
       "      <td>4</td>\n",
       "      <td>8000</td>\n",
       "      <td>1600</td>\n",
       "      <td>0</td>\n",
       "      <td>6400</td>\n",
       "    </tr>\n",
       "    <tr>\n",
       "      <th>4</th>\n",
       "      <td>5</td>\n",
       "      <td>0</td>\n",
       "      <td>26</td>\n",
       "      <td>4</td>\n",
       "      <td>8000</td>\n",
       "      <td>1600</td>\n",
       "      <td>0</td>\n",
       "      <td>6400</td>\n",
       "    </tr>\n",
       "  </tbody>\n",
       "</table>\n",
       "</div>"
      ],
      "text/plain": [
       "   Day  Inventory  Demand  Sales  Revenue  Cost  Holding Cost  Net Profit\n",
       "0    1         14      26     26    52000  1600          2100       48300\n",
       "1    2          0      30     14    28000  1600             0       26400\n",
       "2    3          0      31      4     8000  1600             0        6400\n",
       "3    4          0      22      4     8000  1600             0        6400\n",
       "4    5          0      26      4     8000  1600             0        6400"
      ]
     },
     "execution_count": 16,
     "metadata": {},
     "output_type": "execute_result"
    },
    {
     "data": {
      "image/png": "[encoded data removed]",
      "text/plain": [
       "<Figure size 640x480 with 1 Axes>"
      ]
     },
     "metadata": {},
     "output_type": "display_data"
    }
   ],
   "source": [
    "gamma = 0.9  # Discounting factor\n",
    "initial_inventory = 40  # Starting inventory\n",
    "daily_order = 4  # Daily order quantity\n",
    "max_order_size = 10  # Maximum order size\n",
    "storage_capacity = 40  # Storage capacity\n",
    "lead_time = 2  # Lead time in days\n",
    "purchase_cost = 400  # Cost per item\n",
    "selling_price = 2000  # Selling price per item\n",
    "holding_cost = 150  # Holding cost per unsold item\n",
    "num_days = 30  # Number of days to simulate\n",
    "\n",
    "# Initialize variables\n",
    "inventory = initial_inventory\n",
    "orders_in_transit = [0] * lead_time  # Orders in transit for each day\n",
    "\n",
    "# Data collection\n",
    "data = []\n",
    "\n",
    "# Corrected function to calculate binomial demand using numpy's binomial function\n",
    "def binomial_demand():\n",
    "    return np.random.binomial(n, p)\n",
    "\n",
    "# Re-run the simulation loop\n",
    "data = []\n",
    "inventory = initial_inventory\n",
    "orders_in_transit = [0] * lead_time  # Reset orders in transit\n",
    "\n",
    "for day in range(1, num_days + 1):\n",
    "    # Receive order from two days ago\n",
    "    inventory += orders_in_transit.pop(0)\n",
    "    # Limit inventory to storage capacity\n",
    "    inventory = min(inventory, storage_capacity)\n",
    "\n",
    "    # Generate demand and calculate sales\n",
    "    demand = binomial_demand()\n",
    "    sales = min(demand, inventory)\n",
    "    inventory -= sales\n",
    "\n",
    "    # Calculate revenue and costs\n",
    "    revenue = sales * selling_price\n",
    "    cost = daily_order * purchase_cost\n",
    "    holding_cost_total = inventory * holding_cost\n",
    "\n",
    "    # Update orders in transit\n",
    "    orders_in_transit.append(daily_order)\n",
    "\n",
    "    # Record data\n",
    "    data.append({\n",
    "        'Day': day,\n",
    "        'Inventory': inventory,\n",
    "        'Demand': demand,\n",
    "        'Sales': sales,\n",
    "        'Revenue': revenue,\n",
    "        'Cost': cost,\n",
    "        'Holding Cost': holding_cost_total,\n",
    "        'Net Profit': revenue - cost - holding_cost_total\n",
    "    })\n",
    "\n",
    "# Convert data to DataFrame\n",
    "df = pd.DataFrame(data)\n",
    "\n",
    "plt.plot(df['Day'], df['Inventory'])\n",
    "df.head()\n",
    "  # Display first few rows of the DataFrame\n"
   ]
  },
  {
   "cell_type": "code",
   "execution_count": 8,
   "metadata": {},
   "outputs": [
    {
     "name": "stdout",
     "output_type": "stream",
     "text": [
      "Mean Total Expected Discounted Cost: -130075.87517047123\n",
      "99% Confidence Interval: (-130126.2801065716, -130025.47023437086)\n"
     ]
    }
   ],
   "source": [
    "import numpy as np\n",
    "from scipy.stats import binom, norm\n",
    "\n",
    "\n",
    "# Parameters\n",
    "n = 120  # Number of trials in the binomial distribution for demand\n",
    "p = 0.2  # Probability of success (demand) in each trial\n",
    "selling_price = 2000  # Price per carton\n",
    "cost_per_order = 400  # Cost per carton ordered\n",
    "holding_cost = 150  # Holding cost per carton\n",
    "order_quantity = 4  # Number of items ordered per day\n",
    "initial_stock = 40  # Initial inventory\n",
    "gamma = 0.9  # Discount factor\n",
    "\n",
    "# Function to simulate one episode\n",
    "def simulate_episode():\n",
    "    stock = initial_stock\n",
    "    total_discounted_cost = 0\n",
    "    discount_factor = 1\n",
    "\n",
    "    for _ in range(100):  # Simulating for 100 days\n",
    "        # Generate demand\n",
    "        demand = binom.rvs(n, p)\n",
    "\n",
    "        # Calculate sales and update stock\n",
    "        sales = min(stock, demand)\n",
    "        stock -= sales\n",
    "\n",
    "        # Calculate costs\n",
    "        revenue = sales * selling_price\n",
    "        order_cost = order_quantity * cost_per_order\n",
    "        holding_cost_total = max(0, stock) * holding_cost\n",
    "\n",
    "        # Update total cost with discounting\n",
    "        daily_cost = order_cost + holding_cost_total - revenue\n",
    "        total_discounted_cost += discount_factor * daily_cost\n",
    "\n",
    "        # Update stock and discount factor for next day\n",
    "        stock += order_quantity  # Assuming order arrives instantly for simplicity\n",
    "        stock = min(stock, 40)  # Limit stock based on storage capacity\n",
    "        discount_factor *= gamma\n",
    "\n",
    "    return total_discounted_cost\n",
    "\n",
    "# Run multiple episodes to compute mean and standard deviation\n",
    "num_episodes = 10000  # Reduced number of episodes for faster computation\n",
    "costs = [simulate_episode() for _ in range(num_episodes)]\n",
    "mean_cost = np.mean(costs)\n",
    "std_dev_cost = np.std(costs)\n",
    "\n",
    "# Compute 99% confidence interval\n",
    "z_score = norm.ppf(0.995)  # 99% confidence level\n",
    "margin_error = z_score * std_dev_cost / np.sqrt(num_episodes)\n",
    "confidence_interval = (mean_cost - margin_error, mean_cost + margin_error)\n",
    "\n",
    "print(\"Mean Total Expected Discounted Cost:\", mean_cost)\n",
    "print(\"99% Confidence Interval:\", confidence_interval)"
   ]
  },
  {
   "cell_type": "code",
   "execution_count": 13,
   "metadata": {},
   "outputs": [
    {
     "name": "stdout",
     "output_type": "stream",
     "text": [
      "Mean Total Expected Discounted Cost: -123520.95457047119\n",
      "99% Confidence Interval: (-123562.98290817896, -123478.92623276342)\n"
     ]
    }
   ],
   "source": [
    "import numpy as np\n",
    "from scipy.stats import binom, norm\n",
    "\n",
    "\n",
    "# Parameters\n",
    "n = 125  # Number of trials in the binomial distribution for demand\n",
    "p = 0.2  # Probability of success (demand) in each trial\n",
    "selling_price = 2000  # Price per carton\n",
    "cost_per_order = 400  # Cost per carton ordered\n",
    "holding_cost = 150  # Holding cost per carton\n",
    "order_quantity = 4  # Number of items ordered per day\n",
    "initial_inventory = 40  # Initial inventory\n",
    "gamma = 0.9  # Discount factor\n",
    "lead_time = 2  # Lead time in days\n",
    "\n",
    "\n",
    "# Function to simulate one episode\n",
    "def simulate_episode():\n",
    "    inventory = initial_inventory\n",
    "    total_discounted_cost = 0\n",
    "    discount_factor = 1\n",
    "    orders_in_transit = [0] * lead_time  # Orders in transit for each day\n",
    "\n",
    "    for _ in range(100):  # Simulating for 100 days\n",
    "        # Generate demand\n",
    "        demand = binom.rvs(n, p)\n",
    "\n",
    "        # Calculate sales and update stock\n",
    "        # Receive order from two days ago\n",
    "        inventory += orders_in_transit.pop(0)\n",
    "        inventory = min(inventory, 40)  # Limit stock based on storage capacity\n",
    "        sales = min(inventory, demand)\n",
    "        inventory -= sales\n",
    "\n",
    "        # Calculate costs\n",
    "        revenue = sales * selling_price\n",
    "        order_cost = order_quantity * cost_per_order\n",
    "        holding_cost_total = max(0, inventory) * holding_cost\n",
    "\n",
    "        # Update total cost with discounting\n",
    "        daily_cost = order_cost + holding_cost_total - revenue\n",
    "        total_discounted_cost += discount_factor * daily_cost\n",
    "\n",
    "        # Place an order and discount factor for next day\n",
    "        orders_in_transit.append(order_quantity)\n",
    "        discount_factor *= gamma\n",
    "\n",
    "    return total_discounted_cost\n",
    "\n",
    "# Run multiple episodes to compute mean and standard deviation\n",
    "num_episodes = 10000  # Number of episodes\n",
    "costs = [simulate_episode() for _ in range(num_episodes)]\n",
    "mean_cost = np.mean(costs)\n",
    "std_dev_cost = np.std(costs)\n",
    "\n",
    "# Compute 99% confidence interval\n",
    "z_score = norm.ppf(0.995)  # 99% confidence level\n",
    "margin_error = z_score * std_dev_cost / np.sqrt(num_episodes)\n",
    "confidence_interval = (mean_cost - margin_error, mean_cost + margin_error)\n",
    "\n",
    "print(\"Mean Total Expected Discounted Cost:\", mean_cost)\n",
    "print(\"99% Confidence Interval:\", confidence_interval)"
   ]
  },
  {
   "cell_type": "code",
   "execution_count": 14,
   "metadata": {},
   "outputs": [
    {
     "ename": "",
     "evalue": "",
     "output_type": "error",
     "traceback": [
      "\u001b[1;31mThe Kernel crashed while executing code in the the current cell or a previous cell. Please review the code in the cell(s) to identify a possible cause of the failure. Click <a href='https://aka.ms/vscodeJupyterKernelCrash'>here</a> for more info. View Jupyter <a href='command:jupyter.viewOutput'>log</a> for further details."
     ]
    }
   ],
   "source": [
    "import numpy as np\n",
    "\n",
    "# Define the MDP components\n",
    "states = [(a, b) for a in range(41) for b in range(11)]  # State space: inventory levels and incoming stock\n",
    "actions = list(range(11))  # Action space: number of items to order\n",
    "gamma = 0.9  # Discount factor\n",
    "theta = 0.001  # Threshold for convergence\n",
    "n = 125  # Number of trials in the binomial distribution for demand\n",
    "p = 0.2  # Probability of success (demand) in each trial\n",
    "selling_price = 2000  # Price per carton\n",
    "cost_per_order = 400  # Cost per carton ordered\n",
    "holding_cost = 150  # Holding cost per carton\n",
    "\n",
    "# Reward \n",
    "def reward(s, a):\n",
    "    a_prime, b_prime = s\n",
    "    expected_reward = 0\n",
    "\n",
    "    for demand in range(n + 1):\n",
    "        sales = min(a_prime, demand)\n",
    "        unsold_items = max(0, a_prime - demand)\n",
    "        revenue = sales * selling_price\n",
    "        cost = a * cost_per_order\n",
    "        holding_cost_total = unsold_items * holding_cost\n",
    "        expected_reward += (revenue - cost - holding_cost_total) * binom.pmf(demand, n, p)\n",
    "\n",
    "    return expected_reward    \n",
    "\n",
    "# Transition probability\n",
    "def transition_probability(s, action, s_prime):\n",
    "    a, b = s\n",
    "    a_prime, b_prime = s_prime\n",
    "\n",
    "    demand = a + b - a_prime\n",
    "\n",
    "    if demand < 0:\n",
    "        return 0\n",
    "    \n",
    "    return binom.pmf(demand, n, p)\n",
    "    \n",
    "# Value Iteration Algorithm\n",
    "def value_iteration(states, actions, gamma, theta):\n",
    "    V = {s: 0 for s in states}  # Initialize value function\n",
    "    while True:\n",
    "        delta = 0\n",
    "        for s in states:\n",
    "            v = V[s]\n",
    "            V[s] = max(sum(transition_probability(s, a, s_prime) *\n",
    "                           (reward(s, a) + gamma * V[s_prime]) for s_prime in states)\n",
    "                       for a in actions)\n",
    "            delta = max(delta, abs(v - V[s]))\n",
    "        if delta < theta:\n",
    "            break\n",
    "    return V\n",
    "\n",
    "# Compute optimal value function\n",
    "V_star = value_iteration(states, actions, gamma, theta)\n",
    "\n",
    "# Derive the optimal policy\n",
    "policy = {s: max(actions, key=lambda a: sum(transition_probability(s, a, s_prime) *\n",
    "                                            (reward(s, a) + gamma * V_star[s_prime]) for s_prime in states))\n",
    "          for s in states}\n",
    "\n",
    "# V_star and policy now contain the optimal values and actions for each state"
   ]
  },
  {
   "cell_type": "code",
   "execution_count": null,
   "metadata": {},
   "outputs": [],
   "source": []
  }
 ],
 "metadata": {
  "kernelspec": {
   "display_name": "env",
   "language": "python",
   "name": "python3"
  },
  "language_info": {
   "codemirror_mode": {
    "name": "ipython",
    "version": 3
   },
   "file_extension": ".py",
   "mimetype": "text/x-python",
   "name": "python",
   "nbconvert_exporter": "python",
   "pygments_lexer": "ipython3",
   "version": "3.11.5"
  }
 },
 "nbformat": 4,
 "nbformat_minor": 2
}
