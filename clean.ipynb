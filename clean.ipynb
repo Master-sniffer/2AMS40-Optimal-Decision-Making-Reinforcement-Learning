{
  "metadata": {
    "kernelspec": {
      "name": "python",
      "display_name": "Python (Pyodide)",
      "language": "python"
    },
    "language_info": {
      "codemirror_mode": {
        "name": "python",
        "version": 3
      },
      "file_extension": ".py",
      "mimetype": "text/x-python",
      "name": "python",
      "nbconvert_exporter": "python",
      "pygments_lexer": "ipython3",
      "version": "3.8"
    }
  },
  "nbformat_minor": 4,
  "nbformat": 4,
  "cells": [
    {
      "cell_type": "markdown",
      "source": "# Task 4",
      "metadata": {}
    },
    {
      "cell_type": "code",
      "source": "# TASK 4\n\nimport numpy as np\nimport statistics,math\n\n# Supply chain homework Question V(5)\n\nnRuns = pow(10,4); #number of reps\nnSteps = 10000; #duration / length of simulation\n\ns0 = 40; #initial state\ngamma = 0.9 #discounting factor\ntotalReward = 0;\ntotalReward2 = 0;\nTotalRewardMATR = np.zeros(nRuns)\n\nfor i in range(1,nRuns):\n    s = s0;\n    reward = 0;\n\n    for j in range(1, nSteps):\n        demand = np.random.binomial(125, 0.2)\n        metDemand = min(s, demand); #compute met demand\n        unmetDemand = max((demand-s), 0); #compute unmet demand\n        compute_replenish=4\n        reward = reward+pow(gamma,(j-1))*(  metDemand*2000 - 150*unmetDemand - 400*compute_replenish); #from which we can compute the incurred reward\n        s = min((s-metDemand+4), 40); #update the new inventory level\n\n    TotalRewardMATR[i] = reward;\n    totalReward = totalReward + reward; #add observation to the cumulative estimate\n    totalReward2 = totalReward2 + pow(reward,2)\n\ntotalReward = totalReward/(nRuns-1) #get estimate for 1st moment\ntotalReward2 = totalReward2/(nRuns-1) #get estimate for 2nd moment\nstdMean = statistics.stdev(TotalRewardMATR)\n\nprint(\"for sample size = \", nRuns, \"the estimated quantity is equal to\",statistics.mean(TotalRewardMATR))\nprint(\"sample variance = \",statistics.variance(TotalRewardMATR))\nprint(\"confidence interval = (\",statistics.mean(TotalRewardMATR)-\n1.96*math.sqrt(statistics.variance(TotalRewardMATR)/\nnRuns),\",\",statistics.mean(TotalRewardMATR)\n+1.96*math.sqrt(statistics.variance(TotalRewardMATR)/nRuns),\")\") #Confidence Interval\nprint(\"half width of the confidence interval = \",\n1.96*math.sqrt(statistics.variance(TotalRewardMATR)/nRuns))\n\nprint(\"Estimate for V(40): \",totalReward) #print value function estimate\nprint(\" 95% Confidence interval V(40) lb: \", statistics.mean(TotalRewardMATR) -1.96*statistics.stdev(TotalRewardMATR)/math.sqrt(nRuns) ) #print the corresponding confidence interval\nprint(\" 95% Confidence interval V(40) ub: \", statistics.mean(TotalRewardMATR) +1.96*statistics.stdev(TotalRewardMATR)/math.sqrt(nRuns) ) #print the corresponding confidence interval\n\n\n#print(TotalRewardMATR)",
      "metadata": {
        "trusted": true
      },
      "outputs": [],
      "execution_count": null
    },
    {
      "cell_type": "markdown",
      "source": "# Making reward matrix for other tasks",
      "metadata": {}
    },
    {
      "cell_type": "code",
      "source": "import numpy as np\nimport math\nimport statistics,scipy\n#from statistics import sum\n\n# Define constants\nc = 400  # Cost of purchasing an item\np = 2000  # Price of selling an item\nr = 150  # Holding cost per unsold item\n\narray = np.zeros([41,11])\nfor i in range(len(array)):\n    for j in range(len(array[i])):\n            temp_array=[]\n            for k in range(125):\n                # Calculate the future inventory after placing the replenishment order\n                future_inventory = max(i -k,0)+j\n        \n                # Calculate the number of sold items\n                sold_items = min(i, k)\n        \n                # Calculate the purchase cost\n                purchase_cost = c * (sold_items)\n        \n                # Calculate the revenue from sales\n                revenue = p * sold_items\n        \n                # Calculate the holding cost for unsold items\n                holding_cost = r * (future_inventory - sold_items)\n        \n                # Calculate the total reward\n                total_reward = purchase_cost + revenue - holding_cost\n        \n                # Update the reward matrix\n                \n                \n                temp_array.append(scipy.stats.binom.pmf(k,125,0.2) * total_reward)\n\n                \n            array[i][j]=sum(temp_array)\nreward_matrix=array",
      "metadata": {
        "trusted": true
      },
      "outputs": [],
      "execution_count": null
    },
    {
      "cell_type": "code",
      "source": "import ast\nimport numpy as np\nimport math\n\ndef pointer(s):\n    return s[0] * 11 + s[1]\n    \nI = [i for i in range(41)]\nA = [i for i in range(11)]\nS = [(i, a) for i in I for a in A]\nP = np.array(ast.literal_eval(open('Probability.txt', 'r').read()))\nR = np.array(ast.literal_eval(open('R.txt', 'r').read()))\ngamma = 0.9\n\nmax_iter = 5\ndelta = 1e-400\nV = [0 for _ in range(len(S))]\npi = [0 for _ in range(len(S))]\ncount = 0\n\nfor i in range(max_iter):\n    max_diff = 0\n    V_new = [0 for _ in range(len(S))]\n    for s in S:\n        max_val = 0\n        for a in A:\n            val = R[a][pointer(s)]\n            for i in I:\n                val += P[pointer(s)][pointer((i, a))] * (gamma * V[pointer((i, a))])\n            max_val = max(val, max_val)\n            if V[pointer(s)] < val:\n                pi[pointer(s)] = a\n        V_new[pointer(s)] = max_val\n        max_diff = max(max_diff, abs(V[pointer(s)] - V_new[pointer(s)]))\n    V = V_new\n    count += 1\n    print('Count: ' + str(count))\n    if max_diff < delta:\n        print('Break')\n        break\nprint(V)\nprint(pi)\nprint(count)",
      "metadata": {
        "trusted": true
      },
      "outputs": [],
      "execution_count": null
    },
    {
      "cell_type": "markdown",
      "source": "# Task 6 \n\n## Better check together",
      "metadata": {}
    },
    {
      "cell_type": "code",
      "source": "",
      "metadata": {
        "trusted": true
      },
      "outputs": [],
      "execution_count": null
    }
  ]
}